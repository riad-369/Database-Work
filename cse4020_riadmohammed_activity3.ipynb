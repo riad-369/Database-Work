{
 "cells": [
  {
   "cell_type": "markdown",
   "id": "93fa4fb5",
   "metadata": {},
   "source": [
    "# Database Systems 4020"
   ]
  },
  {
   "cell_type": "markdown",
   "id": "e9a7a3b6",
   "metadata": {},
   "source": [
    "## Riad Mohammed"
   ]
  },
  {
   "cell_type": "markdown",
   "id": "1ae25903",
   "metadata": {},
   "source": [
    "### Activity 3"
   ]
  },
  {
   "cell_type": "markdown",
   "id": "e20a1f4a",
   "metadata": {},
   "source": [
    "### Question 1"
   ]
  },
  {
   "cell_type": "markdown",
   "id": "7eff589c",
   "metadata": {},
   "source": [
    "#### (a) (5 points) Execute a single query to return and print out the total assets owned by the bank ( i.e., a cumulative total of the assets at all branches)"
   ]
  },
  {
   "cell_type": "code",
   "execution_count": 147,
   "id": "73a6873e",
   "metadata": {},
   "outputs": [
    {
     "name": "stdout",
     "output_type": "stream",
     "text": [
      "\n",
      "\n",
      "Total assets owned by the bank: $24,600,479.98\n"
     ]
    }
   ],
   "source": [
    "import mysql.connector\n",
    "host = 'bankdb2.cvh022knj1xf.us-east-1.rds.amazonaws.com'\n",
    "user = 'admin'\n",
    "password = \"Kisscake12!\"\n",
    "conn = mysql.connector.connect(host=host,user=user,password=password)\n",
    "\n",
    "cursor=conn.cursor()\n",
    "cursor.execute('USE bank')\n",
    "query=\"select sum(assets)from branch;\"\n",
    "cursor.execute(query)\n",
    "\n",
    "total = cursor.fetchone()[0]\n",
    "print(f'\\n\\nTotal assets owned by the bank: ${total:,.2f}')\n",
    "conn.close()"
   ]
  },
  {
   "cell_type": "markdown",
   "id": "4a3e16e1",
   "metadata": {},
   "source": [
    "#### (b) (10 points) Create a trigger named maintain_branch_size on your branch table that ensures that a small branch does not become a large branch (i.e., that its total assets never gets to 3 million dollars). Whenever an update to the assets of a small branch is attempted that would cause it to become a large branch, your trigger should store this excess money in a table (e.g. bailout_cache) to be later divided equally among the existing large branches, capping the small branch at 2,999,999 in total assets.\n"
   ]
  },
  {
   "cell_type": "code",
   "execution_count": 148,
   "id": "3f4cef85",
   "metadata": {},
   "outputs": [],
   "source": [
    "import mysql.connector\n",
    "host = 'bankdb2.cvh022knj1xf.us-east-1.rds.amazonaws.com'\n",
    "user = 'admin'\n",
    "password = \"Kisscake12!\"\n",
    "conn = mysql.connector.connect(host=host,user=user,password=password)\n",
    "\n",
    "cursor=conn.cursor()\n",
    "cursor.execute('USE bank')\n",
    "\n",
    "query=\"CREATE TABLE bailout_cache(amount NUMERIC(12,2) DEFAULT 0);\"\n",
    "cursor.execute(query)\n",
    "conn.close()"
   ]
  },
  {
   "cell_type": "code",
   "execution_count": 149,
   "id": "dcaa3fcd",
   "metadata": {},
   "outputs": [],
   "source": [
    "import mysql.connector\n",
    "host = 'bankdb2.cvh022knj1xf.us-east-1.rds.amazonaws.com'\n",
    "user = 'admin'\n",
    "password = \"Kisscake12!\"\n",
    "conn = mysql.connector.connect(host=host,user=user,password=password)\n",
    "\n",
    "cursor=conn.cursor()\n",
    "cursor.execute('USE bank')\n",
    "\n",
    "query=\"INSERT INTO bailout_cache(amount) values (0);\"\n",
    "cursor.execute(query)\n",
    "conn.commit()\n",
    "conn.close()"
   ]
  },
  {
   "cell_type": "code",
   "execution_count": 150,
   "id": "9cf442b8",
   "metadata": {},
   "outputs": [],
   "source": [
    "import mysql.connector\n",
    "host = 'bankdb2.cvh022knj1xf.us-east-1.rds.amazonaws.com'\n",
    "user = 'admin'\n",
    "password = \"Kisscake12!\"\n",
    "conn = mysql.connector.connect(host=host,user=user,password=password)\n",
    "\n",
    "cursor=conn.cursor()\n",
    "cursor.execute('USE bank')\n",
    "\n",
    "\n",
    "\n",
    "\n",
    "query=\"\"\"\n",
    "         CREATE TRIGGER maintain_branch_size BEFORE UPDATE ON branch FOR EACH ROW\n",
    "         BEGIN\n",
    "            IF NEW.assets >=3000000 AND OLD.assets < 3000000 THEN\n",
    "               \n",
    "               UPDATE bailout_cache set amount=amount+(NEW.assets-2999999.99);\n",
    "               SET NEW.assets=2999999.99;\n",
    "            END IF;\n",
    "         END;\"\"\"\n",
    "    \n",
    "cursor.execute(query)\n",
    "conn.commit()\n",
    "conn.close()\n",
    "    \n",
    "    \n",
    "    #INSERT INTO NEW.assets(2999999.99)\n",
    "    #DECLARE large_branch_flag NUMERIC(12,2) DEFAULT 2999999.99\n",
    "    # DECLARE bailout_cash NUMERIC(12,2)\n",
    "    #DELETE FROM assets WHERE amount=assets\n",
    "    \n"
   ]
  },
  {
   "cell_type": "markdown",
   "id": "a9a8753f",
   "metadata": {},
   "source": [
    "#### (c) (5 points) Execute a query that attempts to divide the bailout money among the small branches as a test of your trigger.\n"
   ]
  },
  {
   "cell_type": "code",
   "execution_count": 151,
   "id": "b085fa50",
   "metadata": {},
   "outputs": [
    {
     "name": "stdout",
     "output_type": "stream",
     "text": [
      "branch_name          branch_city          assets              \n",
      "Round Hill           Horseneck            7000000.00          \n",
      "Brighton             Brooklyn             6125000.00          \n",
      "North Town           Rye                  3237500.00          \n",
      "Redwood              Palo Alto            2489583.33          \n",
      "Perryridge           Horseneck            2089583.33          \n",
      "Downtown             Brooklyn             1289583.33          \n",
      "Central              Rye                  789863.33           \n",
      "Mianus               Horseneck            789783.33           \n",
      "Pownal               Bennington           789583.33           \n"
     ]
    }
   ],
   "source": [
    "import mysql.connector\n",
    "host = 'bankdb2.cvh022knj1xf.us-east-1.rds.amazonaws.com'\n",
    "user = 'admin'\n",
    "password = \"Kisscake12!\"\n",
    "conn = mysql.connector.connect(host=host,user=user,password=password)\n",
    "cursor=conn.cursor()\n",
    "cursor.execute('USE bank')\n",
    "\n",
    "query=\"select count(branch_name)from branch where (assets<3000000)\"\n",
    "cursor.execute(query)\n",
    "amount_small=cursor.fetchone()[0]\n",
    "#print(amount_small)\n",
    "\n",
    "query=\"select branch.branch_name,branch.branch_city,branch.assets from branch ORDER BY assets DESC\"\n",
    "\n",
    "cursor.execute(query)\n",
    "results=cursor.fetchall()\n",
    "\n",
    "print (\"{:<20} {:<20} {:<20}\".format('branch_name','branch_city','assets'))\n",
    "for name in results:\n",
    "    branch_name,branch_city,assets=name\n",
    "    print (\"{:<20} {:<20} {:<20}\".format(branch_name,branch_city,assets))\n",
    "\n",
    "query=\"update branch set assets=assets + %s where assets<3000000\"%(10000000/amount_small)\n",
    "cursor.execute(query)\n",
    "conn.commit()\n",
    "\n",
    "amount_liq = cursor.fetchall()\n",
    "#print(amount_liq)\n",
    "\n",
    "\n",
    "conn.close()"
   ]
  },
  {
   "cell_type": "markdown",
   "id": "0beb60a1",
   "metadata": {},
   "source": [
    "Above shows the branches before bailout money was allocated to small branches"
   ]
  },
  {
   "cell_type": "code",
   "execution_count": 152,
   "id": "f0541f1d",
   "metadata": {},
   "outputs": [
    {
     "name": "stdout",
     "output_type": "stream",
     "text": [
      "branch_name          branch_city          assets              \n",
      "Round Hill           Horseneck            7000000.00          \n",
      "Brighton             Brooklyn             6125000.00          \n",
      "North Town           Rye                  3237500.00          \n",
      "Perryridge           Horseneck            2999999.99          \n",
      "Redwood              Palo Alto            2999999.99          \n",
      "Downtown             Brooklyn             2956250.00          \n",
      "Central              Rye                  2456530.00          \n",
      "Mianus               Horseneck            2456450.00          \n",
      "Pownal               Bennington           2456250.00          \n"
     ]
    }
   ],
   "source": [
    "import mysql.connector\n",
    "host = 'bankdb2.cvh022knj1xf.us-east-1.rds.amazonaws.com'\n",
    "user = 'admin'\n",
    "password = \"Kisscake12!\"\n",
    "conn = mysql.connector.connect(host=host,user=user,password=password)\n",
    "cursor=conn.cursor()\n",
    "cursor.execute('USE bank')\n",
    "\n",
    "query=\"select branch.branch_name,branch.branch_city,branch.assets from branch ORDER BY assets DESC\"\n",
    "\n",
    "cursor.execute(query)\n",
    "results=cursor.fetchall()\n",
    "\n",
    "print (\"{:<20} {:<20} {:<20}\".format('branch_name','branch_city','assets'))\n",
    "for name in results:\n",
    "    branch_name,branch_city,assets=name\n",
    "    print (\"{:<20} {:<20} {:<20}\".format(branch_name,branch_city,assets))"
   ]
  },
  {
   "cell_type": "markdown",
   "id": "b23a5698",
   "metadata": {},
   "source": [
    "Above shows the branches after bailout money was allocated to small branches"
   ]
  },
  {
   "cell_type": "code",
   "execution_count": 153,
   "id": "6f79a5f7",
   "metadata": {},
   "outputs": [
    {
     "name": "stdout",
     "output_type": "stream",
     "text": [
      "Bailout_cash left: $1912500.02\n"
     ]
    }
   ],
   "source": [
    "import mysql.connector\n",
    "host = 'bankdb2.cvh022knj1xf.us-east-1.rds.amazonaws.com'\n",
    "user = 'admin'\n",
    "password = \"Kisscake12!\"\n",
    "conn = mysql.connector.connect(host=host,user=user,password=password)\n",
    "\n",
    "cursor=conn.cursor()\n",
    "cursor.execute('USE bank')\n",
    "query=\"select amount from bailout_cache;\"\n",
    "cursor.execute(query)\n",
    "\n",
    "bailout_cash = cursor.fetchone()[0]\n",
    "print(f'Bailout_cash left: ${bailout_cash}')"
   ]
  },
  {
   "cell_type": "markdown",
   "id": "eacc804c",
   "metadata": {},
   "source": [
    "#### (d) (3 points) Execute a query that divides any excess money from the bailout (money in your bailout_cache) among the large branches\n"
   ]
  },
  {
   "cell_type": "code",
   "execution_count": 154,
   "id": "58a2e9ad",
   "metadata": {},
   "outputs": [
    {
     "name": "stdout",
     "output_type": "stream",
     "text": [
      "Number of Large Companies: 3\n",
      "\n",
      "\n",
      "Bailout_cash left: $1,912,500.02\n",
      "branch_name          branch_city          assets              \n",
      "Round Hill           Horseneck            7000000.00          \n",
      "Brighton             Brooklyn             6125000.00          \n",
      "North Town           Rye                  3237500.00          \n",
      "Perryridge           Horseneck            2999999.99          \n",
      "Redwood              Palo Alto            2999999.99          \n",
      "Downtown             Brooklyn             2956250.00          \n",
      "Central              Rye                  2456530.00          \n",
      "Mianus               Horseneck            2456450.00          \n",
      "Pownal               Bennington           2456250.00          \n"
     ]
    }
   ],
   "source": [
    "import mysql.connector\n",
    "host = 'bankdb2.cvh022knj1xf.us-east-1.rds.amazonaws.com'\n",
    "user = 'admin'\n",
    "password = \"Kisscake12!\"\n",
    "conn = mysql.connector.connect(host=host,user=user,password=password)\n",
    "cursor=conn.cursor()\n",
    "cursor.execute('USE bank')\n",
    "\n",
    "query=\"select count(branch_name)from branch where (assets>=3000000)\"\n",
    "cursor.execute(query)\n",
    "amount_large=cursor.fetchone()[0]\n",
    "print(f'Number of Large Companies: {amount_large}')\n",
    "print(f'\\n\\nBailout_cash left: ${bailout_cash:,.2f}')\n",
    "\n",
    "query=\"select branch.branch_name,branch.branch_city,branch.assets from branch ORDER BY assets DESC\"\n",
    "\n",
    "cursor.execute(query)\n",
    "results=cursor.fetchall()\n",
    "\n",
    "print (\"{:<20} {:<20} {:<20}\".format('branch_name','branch_city','assets'))\n",
    "for name in results:\n",
    "    branch_name,branch_city,assets=name\n",
    "    print (\"{:<20} {:<20} {:<20}\".format(branch_name,branch_city,assets))\n",
    "\n",
    "query=\"update branch set assets=assets + %s where assets>=3000000\"%(bailout_cash/amount_large)\n",
    "cursor.execute(query)\n",
    "conn.commit()\n",
    "\n",
    "##amount_liq = cursor.fetchall()\n",
    "\n",
    "\n",
    "\n",
    "\n",
    "\n",
    "conn.close()"
   ]
  },
  {
   "cell_type": "markdown",
   "id": "c93494d1",
   "metadata": {},
   "source": [
    "Above shows the branches before excess bailout money was allocated to large branches"
   ]
  },
  {
   "cell_type": "code",
   "execution_count": 155,
   "id": "ee2dfcb7",
   "metadata": {},
   "outputs": [
    {
     "name": "stdout",
     "output_type": "stream",
     "text": [
      "branch_name          branch_city          assets              \n",
      "Round Hill           Horseneck            7637500.01          \n",
      "Brighton             Brooklyn             6762500.01          \n",
      "North Town           Rye                  3875000.01          \n",
      "Perryridge           Horseneck            2999999.99          \n",
      "Redwood              Palo Alto            2999999.99          \n",
      "Downtown             Brooklyn             2956250.00          \n",
      "Central              Rye                  2456530.00          \n",
      "Mianus               Horseneck            2456450.00          \n",
      "Pownal               Bennington           2456250.00          \n"
     ]
    }
   ],
   "source": [
    "import mysql.connector\n",
    "host = 'bankdb2.cvh022knj1xf.us-east-1.rds.amazonaws.com'\n",
    "user = 'admin'\n",
    "password = \"Kisscake12!\"\n",
    "conn = mysql.connector.connect(host=host,user=user,password=password)\n",
    "cursor=conn.cursor()\n",
    "cursor.execute('USE bank')\n",
    "\n",
    "query=\"select branch.branch_name,branch.branch_city,branch.assets from branch ORDER BY assets DESC\"\n",
    "\n",
    "cursor.execute(query)\n",
    "results=cursor.fetchall()\n",
    "\n",
    "print (\"{:<20} {:<20} {:<20}\".format('branch_name','branch_city','assets'))\n",
    "for name in results:\n",
    "    branch_name,branch_city,assets=name\n",
    "    print (\"{:<20} {:<20} {:<20}\".format(branch_name,branch_city,assets))"
   ]
  },
  {
   "cell_type": "markdown",
   "id": "ba3dbecb",
   "metadata": {},
   "source": [
    "Above shows the branches after excess bailout money was allocated to large branches"
   ]
  },
  {
   "cell_type": "markdown",
   "id": "fb290655",
   "metadata": {},
   "source": [
    "#### (e) (2 points) Execute a single query to return and print out the total assets owned by the bank ( i.e., a cumulative total of the assets at all branches) after all changes above has been made.\n"
   ]
  },
  {
   "cell_type": "code",
   "execution_count": 156,
   "id": "27d4cc7d",
   "metadata": {},
   "outputs": [
    {
     "name": "stdout",
     "output_type": "stream",
     "text": [
      "\n",
      "\n",
      "Total assets owned by the bank after changes: $34,600,480.01\n"
     ]
    }
   ],
   "source": [
    "import mysql.connector\n",
    "host = 'bankdb2.cvh022knj1xf.us-east-1.rds.amazonaws.com'\n",
    "user = 'admin'\n",
    "password = \"Kisscake12!\"\n",
    "conn = mysql.connector.connect(host=host,user=user,password=password)\n",
    "\n",
    "cursor=conn.cursor()\n",
    "cursor.execute('USE bank')\n",
    "query=\"select sum(assets)from branch;\"\n",
    "cursor.execute(query)\n",
    "\n",
    "total = cursor.fetchone()[0]\n",
    "print(f'\\n\\nTotal assets owned by the bank after changes: ${total:,.2f}')\n",
    "conn.close()"
   ]
  },
  {
   "cell_type": "code",
   "execution_count": null,
   "id": "e173a9c3",
   "metadata": {},
   "outputs": [],
   "source": []
  }
 ],
 "metadata": {
  "kernelspec": {
   "display_name": "Python 3 (ipykernel)",
   "language": "python",
   "name": "python3"
  },
  "language_info": {
   "codemirror_mode": {
    "name": "ipython",
    "version": 3
   },
   "file_extension": ".py",
   "mimetype": "text/x-python",
   "name": "python",
   "nbconvert_exporter": "python",
   "pygments_lexer": "ipython3",
   "version": "3.9.7"
  }
 },
 "nbformat": 4,
 "nbformat_minor": 5
}
